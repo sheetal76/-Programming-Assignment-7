{
  "nbformat": 4,
  "nbformat_minor": 0,
  "metadata": {
    "colab": {
      "provenance": []
    },
    "kernelspec": {
      "name": "python3",
      "display_name": "Python 3"
    },
    "language_info": {
      "name": "python"
    }
  },
  "cells": [
    {
      "cell_type": "code",
      "execution_count": 1,
      "metadata": {
        "id": "cWNTp6wxeKiJ"
      },
      "outputs": [],
      "source": [
        "#1. Write a Python Program to find sum of array?"
      ]
    },
    {
      "cell_type": "code",
      "source": [
        "def array_sum(arr):\n",
        "    return sum(arr)\n",
        "\n",
        "# Taking input from the user\n",
        "n = int(input(\"Enter the number of elements in the array: \"))\n",
        "arr = []\n",
        "\n",
        "for i in range(n):\n",
        "    element = float(input(f\"Enter element {i + 1}: \"))\n",
        "    arr.append(element)\n",
        "\n",
        "result = array_sum(arr)\n",
        "\n",
        "print(f\"The sum of the array is: {result}\")\n"
      ],
      "metadata": {
        "colab": {
          "base_uri": "https://localhost:8080/"
        },
        "id": "0Aq7T3bXfbf2",
        "outputId": "af03b377-da91-4b76-bfec-2f15669b0c88"
      },
      "execution_count": 5,
      "outputs": [
        {
          "output_type": "stream",
          "name": "stdout",
          "text": [
            "Enter the number of elements in the array: 5\n",
            "Enter element 1: 1\n",
            "Enter element 2: 2\n",
            "Enter element 3: 3\n",
            "Enter element 4: 4\n",
            "Enter element 5: 5\n",
            "The sum of the array is: 15.0\n"
          ]
        }
      ]
    },
    {
      "cell_type": "code",
      "source": [
        "#2. Write a Python Program to find largest element in an array?"
      ],
      "metadata": {
        "id": "fMTqYJfqeaFf"
      },
      "execution_count": 2,
      "outputs": []
    },
    {
      "cell_type": "code",
      "source": [
        "def find_largest_element(arr):\n",
        "    if len(arr) == 0:\n",
        "        return \"Array is empty\"\n",
        "    else:\n",
        "        return max(arr)\n",
        "\n",
        "# Taking input from the user\n",
        "n = int(input(\"Enter the number of elements in the array: \"))\n",
        "arr = []\n",
        "\n",
        "for i in range(n):\n",
        "    element = float(input(f\"Enter element {i + 1}: \"))\n",
        "    arr.append(element)\n",
        "\n",
        "result = find_largest_element(arr)\n",
        "\n",
        "print(f\"The largest element in the array is: {result}\")\n",
        "2\n"
      ],
      "metadata": {
        "colab": {
          "base_uri": "https://localhost:8080/"
        },
        "id": "ILMtMgGifvoM",
        "outputId": "f075709f-cce7-45fb-8570-0fdf6f4b2182"
      },
      "execution_count": 6,
      "outputs": [
        {
          "output_type": "stream",
          "name": "stdout",
          "text": [
            "Enter the number of elements in the array: 5\n",
            "Enter element 1: 34\n",
            "Enter element 2: 56\n",
            "Enter element 3: 1\n",
            "Enter element 4: 3\n",
            "Enter element 5: 2\n",
            "The largest element in the array is: 56.0\n"
          ]
        }
      ]
    },
    {
      "cell_type": "code",
      "source": [
        "#3. Write a Python Program for array rotation?"
      ],
      "metadata": {
        "id": "gxEBFbVGedVp"
      },
      "execution_count": 3,
      "outputs": []
    },
    {
      "cell_type": "code",
      "source": [
        "def rotate_array(arr, rotations):\n",
        "    n = len(arr)\n",
        "    rotations = rotations % n  # Ensure effective rotations within array length\n",
        "    return arr[rotations:] + arr[:rotations]\n",
        "\n",
        "# Taking input from the user\n",
        "n = int(input(\"Enter the number of elements in the array: \"))\n",
        "arr = []\n",
        "\n",
        "for i in range(n):\n",
        "    element = int(input(f\"Enter element {i + 1}: \"))\n",
        "    arr.append(element)\n",
        "\n",
        "num_rotations = int(input(\"Enter the number of rotations: \"))\n",
        "\n",
        "result = rotate_array(arr, num_rotations)\n",
        "\n",
        "print(f\"The array after {num_rotations} rotations is: {result}\")\n"
      ],
      "metadata": {
        "colab": {
          "base_uri": "https://localhost:8080/"
        },
        "id": "R-N8QLNXiKoB",
        "outputId": "87119b8f-5b49-4130-e494-5f32bbff14c7"
      },
      "execution_count": 7,
      "outputs": [
        {
          "output_type": "stream",
          "name": "stdout",
          "text": [
            "Enter the number of elements in the array: 3\n",
            "Enter element 1: 1\n",
            "Enter element 2: 2\n",
            "Enter element 3: 3\n",
            "Enter the number of rotations: 2\n",
            "The array after 2 rotations is: [3, 1, 2]\n"
          ]
        }
      ]
    },
    {
      "cell_type": "code",
      "source": [
        "#4. Write a Python Program to Split the array and add the first part to the end?"
      ],
      "metadata": {
        "id": "PagqTfbyegJp"
      },
      "execution_count": 4,
      "outputs": []
    },
    {
      "cell_type": "code",
      "source": [
        "def split_and_add(arr, split_index):\n",
        "    if 0 < split_index < len(arr):\n",
        "        return arr[split_index:] + arr[:split_index]\n",
        "    else:\n",
        "        return \"Invalid split index\"\n",
        "\n",
        "# Taking input from the user\n",
        "n = int(input(\"Enter the number of elements in the array: \"))\n",
        "arr = []\n",
        "\n",
        "for i in range(n):\n",
        "    element = int(input(f\"Enter element {i + 1}: \"))\n",
        "    arr.append(element)\n",
        "\n",
        "split_index = int(input(\"Enter the index to split the array: \"))\n",
        "\n",
        "result = split_and_add(arr, split_index)\n",
        "\n",
        "print(f\"The array after splitting and adding is: {result}\")\n"
      ],
      "metadata": {
        "colab": {
          "base_uri": "https://localhost:8080/"
        },
        "id": "PZfhv33fic8m",
        "outputId": "e545c755-0b8c-4fa9-8ea5-117d9d7de8b8"
      },
      "execution_count": 8,
      "outputs": [
        {
          "output_type": "stream",
          "name": "stdout",
          "text": [
            "Enter the number of elements in the array: 3\n",
            "Enter element 1: 10\n",
            "Enter element 2: 20\n",
            "Enter element 3: 30\n",
            "Enter the index to split the array: 1\n",
            "The array after splitting and adding is: [20, 30, 10]\n"
          ]
        }
      ]
    },
    {
      "cell_type": "code",
      "source": [
        "#5. Write a Python Program to check if given array is Monotonic?"
      ],
      "metadata": {
        "id": "6UMYbZenei97"
      },
      "execution_count": null,
      "outputs": []
    },
    {
      "cell_type": "code",
      "source": [
        "def is_monotonic(arr):\n",
        "    increasing = decreasing = True\n",
        "\n",
        "    for i in range(1, len(arr)):\n",
        "        if arr[i] > arr[i - 1]:\n",
        "            decreasing = False\n",
        "        elif arr[i] < arr[i - 1]:\n",
        "            increasing = False\n",
        "\n",
        "    return increasing or decreasing\n",
        "\n",
        "# Taking input from the user\n",
        "n = int(input(\"Enter the number of elements in the array: \"))\n",
        "arr = []\n",
        "\n",
        "for i in range(n):\n",
        "    element = int(input(f\"Enter element {i + 1}: \"))\n",
        "    arr.append(element)\n",
        "\n",
        "result = is_monotonic(arr)\n",
        "\n",
        "if result:\n",
        "    print(\"The array is monotonic.\")\n",
        "else:\n",
        "    print(\"The array is not monotonic.\")\n"
      ],
      "metadata": {
        "colab": {
          "base_uri": "https://localhost:8080/"
        },
        "id": "892Rjpnpi2Er",
        "outputId": "9058dc7d-fb08-45b4-9b73-947b53436326"
      },
      "execution_count": 9,
      "outputs": [
        {
          "output_type": "stream",
          "name": "stdout",
          "text": [
            "Enter the number of elements in the array: 3\n",
            "Enter element 1: 1\n",
            "Enter element 2: 2\n",
            "Enter element 3: 3\n",
            "The array is monotonic.\n"
          ]
        }
      ]
    },
    {
      "cell_type": "code",
      "source": [],
      "metadata": {
        "id": "OpzjrwFLi2wF"
      },
      "execution_count": null,
      "outputs": []
    }
  ]
}